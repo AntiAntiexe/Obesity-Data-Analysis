{
 "cells": [
  {
   "cell_type": "code",
   "execution_count": 2,
   "id": "4b173dea",
   "metadata": {
    "ExecuteTime": {
     "end_time": "2025-01-21T19:38:12.537996Z",
     "start_time": "2025-01-21T19:38:11.951969Z"
    }
   },
   "outputs": [],
   "source": [
    "import pandas as pd\n",
    "import numpy as np\n",
    "import matplotlib.pyplot as plt\n",
    "from matplotlib import style"
   ]
  },
  {
   "cell_type": "code",
   "execution_count": 3,
   "id": "1938300d",
   "metadata": {
    "ExecuteTime": {
     "end_time": "2025-01-21T19:38:14.949769Z",
     "start_time": "2025-01-21T19:38:14.927078Z"
    }
   },
   "outputs": [
    {
     "name": "stdout",
     "output_type": "stream",
     "text": [
      "  Country or Area  Year   Area         Sex            City  \\\n",
      "0       Australia  2022  Total  Both Sexes        Adelaide   \n",
      "1       Australia  2022  Total  Both Sexes        Adelaide   \n",
      "2       Australia  2022  Total  Both Sexes  Albury-Wodonga   \n",
      "3       Australia  2022  Total  Both Sexes        Ballarat   \n",
      "4       Australia  2022  Total  Both Sexes         Bendigo   \n",
      "5       Australia  2022  Total  Both Sexes        Brisbane   \n",
      "6       Australia  2022  Total  Both Sexes        Brisbane   \n",
      "7       Australia  2022  Total  Both Sexes          Cairns   \n",
      "8       Australia  2022  Total  Both Sexes        CANBERRA   \n",
      "9       Australia  2022  Total  Both Sexes        CANBERRA   \n",
      "\n",
      "             City type         Record Type         Reliability  Source Year  \\\n",
      "0          City proper  Estimate - de jure  Provisional figure       2024.0   \n",
      "1  Urban agglomeration  Estimate - de jure  Provisional figure       2024.0   \n",
      "2          City proper  Estimate - de jure  Provisional figure       2024.0   \n",
      "3          City proper  Estimate - de jure  Provisional figure       2024.0   \n",
      "4          City proper  Estimate - de jure  Provisional figure       2024.0   \n",
      "5          City proper  Estimate - de jure  Provisional figure       2024.0   \n",
      "6  Urban agglomeration  Estimate - de jure  Provisional figure       2024.0   \n",
      "7          City proper  Estimate - de jure  Provisional figure       2024.0   \n",
      "8          City proper  Estimate - de jure  Provisional figure       2024.0   \n",
      "9  Urban agglomeration  Estimate - de jure  Provisional figure       2024.0   \n",
      "\n",
      "       Value Value Footnotes  \n",
      "0    26141.0             1,2  \n",
      "1  1398863.0             1,2  \n",
      "2   100360.0             1,2  \n",
      "3   115951.0             1,2  \n",
      "4   122647.0             1,2  \n",
      "5  1283002.0             1,2  \n",
      "6  2543197.0             1,2  \n",
      "7   171970.0             1,2  \n",
      "8   456844.0             1,2  \n",
      "9   456844.0             1,2  \n",
      "\n",
      " ------------------------------------------------------------ \n",
      "\n",
      "  Country or Area  Year   Area         Sex                City  \\\n",
      "0          Canada  2022  Total  Both Sexes          Abbotsford   \n",
      "1          Canada  2022  Total  Both Sexes  Abbotsford-Mission   \n",
      "2          Canada  2022  Total  Both Sexes                Ajax   \n",
      "3          Canada  2022  Total  Both Sexes              Barrie   \n",
      "4          Canada  2022  Total  Both Sexes              Barrie   \n",
      "5          Canada  2022  Total  Both Sexes          Belleville   \n",
      "6          Canada  2022  Total  Both Sexes          Belleville   \n",
      "7          Canada  2022  Total  Both Sexes            Brampton   \n",
      "8          Canada  2022  Total  Both Sexes           Brantford   \n",
      "9          Canada  2022  Total  Both Sexes           Brantford   \n",
      "\n",
      "             City type         Record Type             Reliability  \\\n",
      "0          City proper  Estimate - de jure  Final figure, complete   \n",
      "1  Urban agglomeration  Estimate - de jure  Final figure, complete   \n",
      "2          City proper  Estimate - de jure  Final figure, complete   \n",
      "3          City proper  Estimate - de jure  Final figure, complete   \n",
      "4  Urban agglomeration  Estimate - de jure  Final figure, complete   \n",
      "5          City proper  Estimate - de jure  Final figure, complete   \n",
      "6  Urban agglomeration  Estimate - de jure  Final figure, complete   \n",
      "7          City proper  Estimate - de jure  Final figure, complete   \n",
      "8          City proper  Estimate - de jure  Final figure, complete   \n",
      "9  Urban agglomeration  Estimate - de jure  Final figure, complete   \n",
      "\n",
      "   Source Year     Value Value Footnotes  \n",
      "0       2024.0  168478.0             1,2  \n",
      "1       2024.0  208961.0             1,2  \n",
      "2       2024.0  135180.0             1,2  \n",
      "3       2024.0  157194.0             1,2  \n",
      "4       2024.0  228979.0             1,2  \n",
      "5       2024.0   57363.0             1,2  \n",
      "6       2024.0  116013.0             1,2  \n",
      "7       2024.0  745557.0             1,2  \n",
      "8       2024.0  110617.0             1,2  \n",
      "9       2024.0  158391.0             1,2  \n"
     ]
    }
   ],
   "source": [
    "dataAus = pd.read_csv('AusPopulation.csv')\n",
    "dataCan = pd.read_csv('CanPopulation.csv')\n",
    "\n",
    "\n",
    "print(dataAus.head(10))\n",
    "print('\\n ------------------------------------------------------------ \\n')\n",
    "print(dataCan.head(10))"
   ]
  },
  {
   "cell_type": "code",
   "execution_count": 7,
   "id": "051d5aa3",
   "metadata": {
    "ExecuteTime": {
     "end_time": "2025-01-21T19:40:05.670821Z",
     "start_time": "2025-01-21T19:40:05.650823Z"
    }
   },
   "outputs": [
    {
     "name": "stdout",
     "output_type": "stream",
     "text": [
      "     Country or Area  Year   Area         Sex       City    City type  \\\n",
      "94            Canada  2022  Total  Both Sexes  Vancouver  City proper   \n",
      "494           Canada  2021  Total  Both Sexes  Vancouver  City proper   \n",
      "495           Canada  2021  Total  Both Sexes  Vancouver  City proper   \n",
      "1009          Canada  2020  Total  Both Sexes  Vancouver  City proper   \n",
      "1323          Canada  2019  Total  Both Sexes  Vancouver  City proper   \n",
      "1636          Canada  2018  Total  Both Sexes  Vancouver  City proper   \n",
      "1940          Canada  2017  Total  Both Sexes  Vancouver  City proper   \n",
      "2306          Canada  2016  Total  Both Sexes  Vancouver  City proper   \n",
      "2307          Canada  2016  Total  Both Sexes  Vancouver  City proper   \n",
      "2778          Canada  2014  Total  Both Sexes  Vancouver  City proper   \n",
      "2998          Canada  2011  Total  Both Sexes  Vancouver  City proper   \n",
      "3546          Canada  2006  Total  Both Sexes  Vancouver  City proper   \n",
      "4006          Canada  2001  Total  Both Sexes  Vancouver  City proper   \n",
      "\n",
      "                                 Record Type             Reliability  \\\n",
      "94                        Estimate - de jure  Final figure, complete   \n",
      "494   Census - de jure - complete tabulation  Final figure, complete   \n",
      "495                       Estimate - de jure  Final figure, complete   \n",
      "1009                      Estimate - de jure  Final figure, complete   \n",
      "1323                      Estimate - de jure      Provisional figure   \n",
      "1636                      Estimate - de jure      Provisional figure   \n",
      "1940                      Estimate - de jure      Provisional figure   \n",
      "2306  Census - de jure - complete tabulation  Final figure, complete   \n",
      "2307                      Estimate - de jure      Provisional figure   \n",
      "2778                      Estimate - de jure      Provisional figure   \n",
      "2998  Census - de jure - complete tabulation  Final figure, complete   \n",
      "3546  Census - de jure - complete tabulation  Final figure, complete   \n",
      "4006  Census - de jure - complete tabulation  Final figure, complete   \n",
      "\n",
      "      Source Year     Value Value Footnotes  \n",
      "94         2024.0  706012.0             1,2  \n",
      "494        2022.0  662250.0               3  \n",
      "495        2022.0  693235.0           2,4,5  \n",
      "1009       2021.0  697266.0         2,4,5,6  \n",
      "1323       2020.0  685885.0         2,5,6,7  \n",
      "1636       2019.0  676593.0         2,5,6,7  \n",
      "1940       2018.0  675218.0         2,5,6,7  \n",
      "2306       2017.0  631490.0         2,3,5,6  \n",
      "2307       2017.0  669045.0             2,6  \n",
      "2778       2015.0  647540.0             2,7  \n",
      "2998       2013.0  603500.0               2  \n",
      "3546       2017.0  578040.0            2,20  \n",
      "4006       2009.0  545670.0               2  \n",
      "\n",
      " ------------------------------------------------------------ \n",
      "\n",
      "     Country or Area  Year   Area         Sex       City    City type  \\\n",
      "94            Canada  2022  Total  Both Sexes  Vancouver  City proper   \n",
      "494           Canada  2021  Total  Both Sexes  Vancouver  City proper   \n",
      "495           Canada  2021  Total  Both Sexes  Vancouver  City proper   \n",
      "1009          Canada  2020  Total  Both Sexes  Vancouver  City proper   \n",
      "1323          Canada  2019  Total  Both Sexes  Vancouver  City proper   \n",
      "1636          Canada  2018  Total  Both Sexes  Vancouver  City proper   \n",
      "1940          Canada  2017  Total  Both Sexes  Vancouver  City proper   \n",
      "2306          Canada  2016  Total  Both Sexes  Vancouver  City proper   \n",
      "2307          Canada  2016  Total  Both Sexes  Vancouver  City proper   \n",
      "2778          Canada  2014  Total  Both Sexes  Vancouver  City proper   \n",
      "2998          Canada  2011  Total  Both Sexes  Vancouver  City proper   \n",
      "3546          Canada  2006  Total  Both Sexes  Vancouver  City proper   \n",
      "4006          Canada  2001  Total  Both Sexes  Vancouver  City proper   \n",
      "\n",
      "                                 Record Type             Reliability  \\\n",
      "94                        Estimate - de jure  Final figure, complete   \n",
      "494   Census - de jure - complete tabulation  Final figure, complete   \n",
      "495                       Estimate - de jure  Final figure, complete   \n",
      "1009                      Estimate - de jure  Final figure, complete   \n",
      "1323                      Estimate - de jure      Provisional figure   \n",
      "1636                      Estimate - de jure      Provisional figure   \n",
      "1940                      Estimate - de jure      Provisional figure   \n",
      "2306  Census - de jure - complete tabulation  Final figure, complete   \n",
      "2307                      Estimate - de jure      Provisional figure   \n",
      "2778                      Estimate - de jure      Provisional figure   \n",
      "2998  Census - de jure - complete tabulation  Final figure, complete   \n",
      "3546  Census - de jure - complete tabulation  Final figure, complete   \n",
      "4006  Census - de jure - complete tabulation  Final figure, complete   \n",
      "\n",
      "      Source Year     Value Value Footnotes  \n",
      "94         2024.0  706012.0             1,2  \n",
      "494        2022.0  662250.0               3  \n",
      "495        2022.0  693235.0           2,4,5  \n",
      "1009       2021.0  697266.0         2,4,5,6  \n",
      "1323       2020.0  685885.0         2,5,6,7  \n",
      "1636       2019.0  676593.0         2,5,6,7  \n",
      "1940       2018.0  675218.0         2,5,6,7  \n",
      "2306       2017.0  631490.0         2,3,5,6  \n",
      "2307       2017.0  669045.0             2,6  \n",
      "2778       2015.0  647540.0             2,7  \n",
      "2998       2013.0  603500.0               2  \n",
      "3546       2017.0  578040.0            2,20  \n",
      "4006       2009.0  545670.0               2  \n"
     ]
    }
   ],
   "source": [
    "dataAus_cityProper = dataAus[np.equal.outer(dataAus.to_numpy(copy=False), ['Melbourne', 'City proper', 'Male']).any(axis=1).all(axis=1)]\n",
    "dataAus_urbanAgglomeration = dataAus[np.equal.outer(dataAus.to_numpy(copy=False), ['Melbourne', '2022', 'Urban agglomeration']).any(axis=1).all(axis=1)]\n",
    "\n",
    "dataCan_cityProper = dataCan[np.equal.outer(dataCan.to_numpy(copy=False), ['Vancouver', 'City proper', 'Both Sexes']).any(axis=1).all(axis=1)]\n",
    "dataCan_urbanAgglomeration = dataCan[np.equal.outer(dataCan.to_numpy(copy=False), ['Vancouver', '2022', 'Urban agglomeration']).any(axis=1).all(axis=1)]\n",
    "\n",
    "#print(dataAus_cityProper)\n",
    "print(dataCan_cityProper)\n",
    "print('\\n ------------------------------------------------------------ \\n')\n",
    "#print(dataAus_urbanAgglomeration)\n",
    "print(dataCan_cityProper)"
   ]
  },
  {
   "cell_type": "code",
   "execution_count": 8,
   "id": "6adf6633",
   "metadata": {
    "ExecuteTime": {
     "end_time": "2025-01-21T19:50:11.834537Z",
     "start_time": "2025-01-21T19:50:11.768237Z"
    }
   },
   "outputs": [
    {
     "data": {
      "image/png": "[encoded data removed]",
      "text/plain": [
       "<Figure size 640x480 with 1 Axes>"
      ]
     },
     "metadata": {},
     "output_type": "display_data"
    }
   ],
   "source": [
    "x = 'Year'\n",
    "style.use(\"ggplot\")\n",
    "plt.bar(dataAus_cityProper[x], dataAus_cityProper[\"Value\"])\n",
    "plt.xlabel(x)\n",
    "plt.ylabel(\"Population\")\n",
    "plt.show()"
   ]
  },
  {
   "cell_type": "code",
   "execution_count": 6,
   "id": "6e221090",
   "metadata": {},
   "outputs": [
    {
     "data": {
      "image/png": "[encoded data removed]",
      "text/plain": [
       "<Figure size 640x480 with 1 Axes>"
      ]
     },
     "metadata": {},
     "output_type": "display_data"
    }
   ],
   "source": [
    "x = 'Year'\n",
    "style.use(\"ggplot\")\n",
    "plt.bar(dataCan_cityProper[x], dataCan_cityProper[\"Value\"])\n",
    "plt.xlabel(x)\n",
    "plt.ylabel(\"Population\")\n",
    "plt.show()"
   ]
  },
  {
   "cell_type": "code",
   "execution_count": null,
   "id": "4a614ac1",
   "metadata": {},
   "outputs": [],
   "source": []
  }
 ],
 "metadata": {
  "kernelspec": {
   "display_name": "Python 3 (ipykernel)",
   "language": "python",
   "name": "python3"
  },
  "language_info": {
   "codemirror_mode": {
    "name": "ipython",
    "version": 3
   },
   "file_extension": ".py",
   "mimetype": "text/x-python",
   "name": "python",
   "nbconvert_exporter": "python",
   "pygments_lexer": "ipython3",
   "version": "3.12.2"
  }
 },
 "nbformat": 4,
 "nbformat_minor": 5
}
