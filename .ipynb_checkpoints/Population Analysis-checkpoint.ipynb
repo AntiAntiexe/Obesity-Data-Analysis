{
 "cells": [
  {
   "cell_type": "code",
   "execution_count": 2,
   "id": "4b173dea",
   "metadata": {},
   "outputs": [],
   "source": [
    "import pandas as pd\n",
    "import numpy as np\n",
    "import matplotlib.pyplot as plt\n",
    "from matplotlib import style"
   ]
  },
  {
   "cell_type": "code",
   "execution_count": 24,
   "id": "1938300d",
   "metadata": {},
   "outputs": [
    {
     "name": "stdout",
     "output_type": "stream",
     "text": [
      "  Country or Area  Year   Area         Sex            City  \\\n",
      "0       Australia  2022  Total  Both Sexes        Adelaide   \n",
      "1       Australia  2022  Total  Both Sexes        Adelaide   \n",
      "2       Australia  2022  Total  Both Sexes  Albury-Wodonga   \n",
      "3       Australia  2022  Total  Both Sexes        Ballarat   \n",
      "4       Australia  2022  Total  Both Sexes         Bendigo   \n",
      "5       Australia  2022  Total  Both Sexes        Brisbane   \n",
      "6       Australia  2022  Total  Both Sexes        Brisbane   \n",
      "7       Australia  2022  Total  Both Sexes          Cairns   \n",
      "8       Australia  2022  Total  Both Sexes        CANBERRA   \n",
      "9       Australia  2022  Total  Both Sexes        CANBERRA   \n",
      "\n",
      "             City type         Record Type         Reliability  Source Year  \\\n",
      "0          City proper  Estimate - de jure  Provisional figure       2024.0   \n",
      "1  Urban agglomeration  Estimate - de jure  Provisional figure       2024.0   \n",
      "2          City proper  Estimate - de jure  Provisional figure       2024.0   \n",
      "3          City proper  Estimate - de jure  Provisional figure       2024.0   \n",
      "4          City proper  Estimate - de jure  Provisional figure       2024.0   \n",
      "5          City proper  Estimate - de jure  Provisional figure       2024.0   \n",
      "6  Urban agglomeration  Estimate - de jure  Provisional figure       2024.0   \n",
      "7          City proper  Estimate - de jure  Provisional figure       2024.0   \n",
      "8          City proper  Estimate - de jure  Provisional figure       2024.0   \n",
      "9  Urban agglomeration  Estimate - de jure  Provisional figure       2024.0   \n",
      "\n",
      "       Value Value Footnotes  \n",
      "0    26141.0             1,2  \n",
      "1  1398863.0             1,2  \n",
      "2   100360.0             1,2  \n",
      "3   115951.0             1,2  \n",
      "4   122647.0             1,2  \n",
      "5  1283002.0             1,2  \n",
      "6  2543197.0             1,2  \n",
      "7   171970.0             1,2  \n",
      "8   456844.0             1,2  \n",
      "9   456844.0             1,2  \n",
      "\n",
      " ------------------------------------------------------------ \n",
      "\n",
      "  Country or Area  Year   Area         Sex                City  \\\n",
      "0          Canada  2022  Total  Both Sexes          Abbotsford   \n",
      "1          Canada  2022  Total  Both Sexes  Abbotsford-Mission   \n",
      "2          Canada  2022  Total  Both Sexes                Ajax   \n",
      "3          Canada  2022  Total  Both Sexes              Barrie   \n",
      "4          Canada  2022  Total  Both Sexes              Barrie   \n",
      "5          Canada  2022  Total  Both Sexes          Belleville   \n",
      "6          Canada  2022  Total  Both Sexes          Belleville   \n",
      "7          Canada  2022  Total  Both Sexes            Brampton   \n",
      "8          Canada  2022  Total  Both Sexes           Brantford   \n",
      "9          Canada  2022  Total  Both Sexes           Brantford   \n",
      "\n",
      "             City type         Record Type             Reliability  \\\n",
      "0          City proper  Estimate - de jure  Final figure, complete   \n",
      "1  Urban agglomeration  Estimate - de jure  Final figure, complete   \n",
      "2          City proper  Estimate - de jure  Final figure, complete   \n",
      "3          City proper  Estimate - de jure  Final figure, complete   \n",
      "4  Urban agglomeration  Estimate - de jure  Final figure, complete   \n",
      "5          City proper  Estimate - de jure  Final figure, complete   \n",
      "6  Urban agglomeration  Estimate - de jure  Final figure, complete   \n",
      "7          City proper  Estimate - de jure  Final figure, complete   \n",
      "8          City proper  Estimate - de jure  Final figure, complete   \n",
      "9  Urban agglomeration  Estimate - de jure  Final figure, complete   \n",
      "\n",
      "   Source Year     Value Value Footnotes  \n",
      "0       2024.0  168478.0             1,2  \n",
      "1       2024.0  208961.0             1,2  \n",
      "2       2024.0  135180.0             1,2  \n",
      "3       2024.0  157194.0             1,2  \n",
      "4       2024.0  228979.0             1,2  \n",
      "5       2024.0   57363.0             1,2  \n",
      "6       2024.0  116013.0             1,2  \n",
      "7       2024.0  745557.0             1,2  \n",
      "8       2024.0  110617.0             1,2  \n",
      "9       2024.0  158391.0             1,2  \n"
     ]
    }
   ],
   "source": [
    "dataAus = pd.read_csv('AusPopulation.csv')\n",
    "dataCan = pd.read_csv('CanPopulation.csv')\n",
    "\n",
    "\n",
    "print(dataAus.head(10))\n",
    "print('\\n ------------------------------------------------------------ \\n')\n",
    "print(dataCan.head(10))"
   ]
  },
  {
   "cell_type": "code",
   "execution_count": 20,
   "id": "051d5aa3",
   "metadata": {},
   "outputs": [
    {
     "name": "stdout",
     "output_type": "stream",
     "text": [
      "     Country or Area  Year   Area         Sex       City    City type  \\\n",
      "28         Australia  2022  Total  Both Sexes  Melbourne  City proper   \n",
      "71         Australia  2022  Total        Male  Melbourne  City proper   \n",
      "114        Australia  2022  Total      Female  Melbourne  City proper   \n",
      "176        Australia  2021  Total  Both Sexes  Melbourne  City proper   \n",
      "246        Australia  2021  Total        Male  Melbourne  City proper   \n",
      "...              ...   ...    ...         ...        ...          ...   \n",
      "1751       Australia  2003  Total        Male  Melbourne  City proper   \n",
      "1769       Australia  2003  Total      Female  Melbourne  City proper   \n",
      "1797       Australia  2001  Total  Both Sexes  Melbourne  City proper   \n",
      "1831       Australia  2001  Total        Male  Melbourne  City proper   \n",
      "1865       Australia  2001  Total      Female  Melbourne  City proper   \n",
      "\n",
      "                                 Record Type             Reliability  \\\n",
      "28                        Estimate - de jure      Provisional figure   \n",
      "71                        Estimate - de jure      Provisional figure   \n",
      "114                       Estimate - de jure      Provisional figure   \n",
      "176                       Estimate - de jure  Final figure, complete   \n",
      "246                       Estimate - de jure  Final figure, complete   \n",
      "...                                      ...                     ...   \n",
      "1751                      Estimate - de jure  Final figure, complete   \n",
      "1769                      Estimate - de jure  Final figure, complete   \n",
      "1797  Census - de jure - complete tabulation  Final figure, complete   \n",
      "1831  Census - de jure - complete tabulation  Final figure, complete   \n",
      "1865  Census - de jure - complete tabulation  Final figure, complete   \n",
      "\n",
      "      Source Year      Value Value Footnotes  \n",
      "28         2024.0   159993.0             1,2  \n",
      "71         2024.0    79680.0             1,2  \n",
      "114        2024.0    80313.0             1,2  \n",
      "176        2023.0   153674.0               2  \n",
      "246        2023.0    76859.0               2  \n",
      "...           ...        ...             ...  \n",
      "1751       2004.0  1749997.0           13,15  \n",
      "1769       2004.0  1805324.0           13,15  \n",
      "1797       2009.0  3338704.0           13,15  \n",
      "1831       2009.0  1634682.0           13,15  \n",
      "1865       2009.0  1704022.0           13,15  \n",
      "\n",
      "[62 rows x 11 columns]\n",
      "\n",
      " ------------------------------------------------------------ \n",
      "\n",
      "    Country or Area  Year   Area         Sex       City            City type  \\\n",
      "29        Australia  2022  Total  Both Sexes  Melbourne  Urban agglomeration   \n",
      "72        Australia  2022  Total        Male  Melbourne  Urban agglomeration   \n",
      "115       Australia  2022  Total      Female  Melbourne  Urban agglomeration   \n",
      "\n",
      "            Record Type         Reliability  Source Year      Value  \\\n",
      "29   Estimate - de jure  Provisional figure       2024.0  4933678.0   \n",
      "72   Estimate - de jure  Provisional figure       2024.0  2439766.0   \n",
      "115  Estimate - de jure  Provisional figure       2024.0  2493912.0   \n",
      "\n",
      "    Value Footnotes  \n",
      "29              1,2  \n",
      "72              1,2  \n",
      "115             1,2  \n"
     ]
    }
   ],
   "source": [
    "sorted_data_cityProper = dataAus[np.equal.outer(dataAus.to_numpy(copy=False),  ['Melbourne', 'City proper']).any(axis=1).all(axis=1)]\n",
    "sorted_data_urbanAgglomeration = dataAus[np.equal.outer(dataAus.to_numpy(copy=False),  ['Melbourne', '2022', 'Urban agglomeration']).any(axis=1).all(axis=1)]\n",
    "\n",
    "print(sorted_data_cityProper)\n",
    "print('\\n ------------------------------------------------------------ \\n')\n",
    "print(sorted_data_urbanAgglomeration)"
   ]
  },
  {
   "cell_type": "code",
   "execution_count": 22,
   "id": "6adf6633",
   "metadata": {},
   "outputs": [
    {
     "data": {
      "image/png": "[encoded data removed]",
      "text/plain": [
       "<Figure size 640x480 with 1 Axes>"
      ]
     },
     "metadata": {},
     "output_type": "display_data"
    }
   ],
   "source": [
    "x = 'Year'\n",
    "style.use(\"ggplot\")\n",
    "plt.bar(sorted_data_cityProper[x], sorted_data_cityProper[\"Value\"])\n",
    "plt.xlabel(x)\n",
    "plt.ylabel(\"Value\")\n",
    "plt.show()"
   ]
  },
  {
   "cell_type": "code",
   "execution_count": null,
   "id": "6e221090",
   "metadata": {},
   "outputs": [],
   "source": []
  }
 ],
 "metadata": {
  "kernelspec": {
   "display_name": "Python 3 (ipykernel)",
   "language": "python",
   "name": "python3"
  },
  "language_info": {
   "codemirror_mode": {
    "name": "ipython",
    "version": 3
   },
   "file_extension": ".py",
   "mimetype": "text/x-python",
   "name": "python",
   "nbconvert_exporter": "python",
   "pygments_lexer": "ipython3",
   "version": "3.12.2"
  }
 },
 "nbformat": 4,
 "nbformat_minor": 5
}
